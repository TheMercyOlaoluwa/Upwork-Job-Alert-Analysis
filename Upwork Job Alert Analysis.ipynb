{
 "cells": [
  {
   "cell_type": "code",
   "execution_count": 200,
   "id": "ee0816d7-152f-415f-a3ac-63a1bac63de2",
   "metadata": {},
   "outputs": [],
   "source": [
    "import pandas as pd\n",
    "import numpy as np\n",
    "import matplotlib.pyplot as plt\n",
    "import seaborn as sns\n",
    "import re"
   ]
  },
  {
   "cell_type": "code",
   "execution_count": 201,
   "id": "2f0bc719-5d05-488e-9f2f-1c315008f10f",
   "metadata": {},
   "outputs": [
    {
     "data": {
      "text/html": [
       "<div>\n",
       "<style scoped>\n",
       "    .dataframe tbody tr th:only-of-type {\n",
       "        vertical-align: middle;\n",
       "    }\n",
       "\n",
       "    .dataframe tbody tr th {\n",
       "        vertical-align: top;\n",
       "    }\n",
       "\n",
       "    .dataframe thead th {\n",
       "        text-align: right;\n",
       "    }\n",
       "</style>\n",
       "<table border=\"1\" class=\"dataframe\">\n",
       "  <thead>\n",
       "    <tr style=\"text-align: right;\">\n",
       "      <th></th>\n",
       "      <th>Thread ID</th>\n",
       "      <th>Date Received</th>\n",
       "      <th>Subject</th>\n",
       "      <th>Body</th>\n",
       "    </tr>\n",
       "  </thead>\n",
       "  <tbody>\n",
       "    <tr>\n",
       "      <th>0</th>\n",
       "      <td>19942717ffc49a4c</td>\n",
       "      <td>9/13/2025 10:39:17</td>\n",
       "      <td>New job: Financial Data Entry Specialist Virtu...</td>\n",
       "      <td>\\n\\nNew job alert\\n\\nHi, Mercy! This job looks...</td>\n",
       "    </tr>\n",
       "    <tr>\n",
       "      <th>1</th>\n",
       "      <td>19942136fb2dd8e3</td>\n",
       "      <td>9/13/2025 8:56:33</td>\n",
       "      <td>New job: Consolidated &amp; Automated Sales Dashbo...</td>\n",
       "      <td>\\n\\nNew job alert\\n\\nHi, Mercy! This job looks...</td>\n",
       "    </tr>\n",
       "    <tr>\n",
       "      <th>2</th>\n",
       "      <td>1994107d114db5f0</td>\n",
       "      <td>9/13/2025 4:04:14</td>\n",
       "      <td>New job: Financial Reporting and Analysis Spec...</td>\n",
       "      <td>\\r\\n\\r\\nNew job alert\\r\\n\\r\\nHi, Mercy! This j...</td>\n",
       "    </tr>\n",
       "    <tr>\n",
       "      <th>3</th>\n",
       "      <td>1994104a5b9b07be</td>\n",
       "      <td>9/13/2025 4:00:46</td>\n",
       "      <td>New job: EXCEL combining simple 1 field of 8 f...</td>\n",
       "      <td>\\r\\n\\r\\nNew job alert\\r\\n\\r\\nHi, Mercy! This j...</td>\n",
       "    </tr>\n",
       "    <tr>\n",
       "      <th>4</th>\n",
       "      <td>19940dbd34fbbe2e</td>\n",
       "      <td>9/13/2025 3:16:11</td>\n",
       "      <td>New job: Power BI + Excel Data Analyst for E-c...</td>\n",
       "      <td>\\r\\n\\r\\nNew job alert\\r\\n\\r\\nHi, Mercy! This j...</td>\n",
       "    </tr>\n",
       "    <tr>\n",
       "      <th>...</th>\n",
       "      <td>...</td>\n",
       "      <td>...</td>\n",
       "      <td>...</td>\n",
       "      <td>...</td>\n",
       "    </tr>\n",
       "    <tr>\n",
       "      <th>972</th>\n",
       "      <td>19861336424fe05c</td>\n",
       "      <td>7/31/2025 16:56:54</td>\n",
       "      <td>New job: Light Data Entry Specialist Needed</td>\n",
       "      <td>\\r\\n\\r\\nNew job alert\\r\\n\\r\\nHi, Mercy! This j...</td>\n",
       "    </tr>\n",
       "    <tr>\n",
       "      <th>973</th>\n",
       "      <td>198609536d4144fa</td>\n",
       "      <td>7/31/2025 14:04:07</td>\n",
       "      <td>New job: Data Entry Specialist for Prospect In...</td>\n",
       "      <td>\\r\\n\\r\\nNew job alert\\r\\n\\r\\nHi, Mercy! This j...</td>\n",
       "    </tr>\n",
       "    <tr>\n",
       "      <th>974</th>\n",
       "      <td>1985e4c45ddef340</td>\n",
       "      <td>7/31/2025 3:25:12</td>\n",
       "      <td>New job: Excel Expert Needed for QSR Menu Cost...</td>\n",
       "      <td>\\r\\n\\r\\nNew job alert\\r\\n\\r\\nHi, Mercy! This j...</td>\n",
       "    </tr>\n",
       "    <tr>\n",
       "      <th>975</th>\n",
       "      <td>1985e20c40b2249d</td>\n",
       "      <td>7/31/2025 2:37:42</td>\n",
       "      <td>New job: Virtual Assistant for Data Entry &amp; In...</td>\n",
       "      <td>\\r\\n\\r\\nNew job alert\\r\\n\\r\\nHi, Mercy! This j...</td>\n",
       "    </tr>\n",
       "    <tr>\n",
       "      <th>976</th>\n",
       "      <td>1985df65e7a73403</td>\n",
       "      <td>7/31/2025 1:51:23</td>\n",
       "      <td>New job: Need 3 short reports combined into 1 ...</td>\n",
       "      <td>\\r\\n\\r\\nNew job alert\\r\\n\\r\\nHi, Mercy! This j...</td>\n",
       "    </tr>\n",
       "  </tbody>\n",
       "</table>\n",
       "<p>977 rows × 4 columns</p>\n",
       "</div>"
      ],
      "text/plain": [
       "            Thread ID       Date Received  \\\n",
       "0    19942717ffc49a4c  9/13/2025 10:39:17   \n",
       "1    19942136fb2dd8e3   9/13/2025 8:56:33   \n",
       "2    1994107d114db5f0   9/13/2025 4:04:14   \n",
       "3    1994104a5b9b07be   9/13/2025 4:00:46   \n",
       "4    19940dbd34fbbe2e   9/13/2025 3:16:11   \n",
       "..                ...                 ...   \n",
       "972  19861336424fe05c  7/31/2025 16:56:54   \n",
       "973  198609536d4144fa  7/31/2025 14:04:07   \n",
       "974  1985e4c45ddef340   7/31/2025 3:25:12   \n",
       "975  1985e20c40b2249d   7/31/2025 2:37:42   \n",
       "976  1985df65e7a73403   7/31/2025 1:51:23   \n",
       "\n",
       "                                               Subject  \\\n",
       "0    New job: Financial Data Entry Specialist Virtu...   \n",
       "1    New job: Consolidated & Automated Sales Dashbo...   \n",
       "2    New job: Financial Reporting and Analysis Spec...   \n",
       "3    New job: EXCEL combining simple 1 field of 8 f...   \n",
       "4    New job: Power BI + Excel Data Analyst for E-c...   \n",
       "..                                                 ...   \n",
       "972        New job: Light Data Entry Specialist Needed   \n",
       "973  New job: Data Entry Specialist for Prospect In...   \n",
       "974  New job: Excel Expert Needed for QSR Menu Cost...   \n",
       "975  New job: Virtual Assistant for Data Entry & In...   \n",
       "976  New job: Need 3 short reports combined into 1 ...   \n",
       "\n",
       "                                                  Body  \n",
       "0    \\n\\nNew job alert\\n\\nHi, Mercy! This job looks...  \n",
       "1    \\n\\nNew job alert\\n\\nHi, Mercy! This job looks...  \n",
       "2    \\r\\n\\r\\nNew job alert\\r\\n\\r\\nHi, Mercy! This j...  \n",
       "3    \\r\\n\\r\\nNew job alert\\r\\n\\r\\nHi, Mercy! This j...  \n",
       "4    \\r\\n\\r\\nNew job alert\\r\\n\\r\\nHi, Mercy! This j...  \n",
       "..                                                 ...  \n",
       "972  \\r\\n\\r\\nNew job alert\\r\\n\\r\\nHi, Mercy! This j...  \n",
       "973  \\r\\n\\r\\nNew job alert\\r\\n\\r\\nHi, Mercy! This j...  \n",
       "974  \\r\\n\\r\\nNew job alert\\r\\n\\r\\nHi, Mercy! This j...  \n",
       "975  \\r\\n\\r\\nNew job alert\\r\\n\\r\\nHi, Mercy! This j...  \n",
       "976  \\r\\n\\r\\nNew job alert\\r\\n\\r\\nHi, Mercy! This j...  \n",
       "\n",
       "[977 rows x 4 columns]"
      ]
     },
     "execution_count": 201,
     "metadata": {},
     "output_type": "execute_result"
    }
   ],
   "source": [
    "# import dataset\n",
    "df = pd.read_csv(r\"C:\\Users\\PC\\Desktop\\Oluwatobi\\Python\\Upwork Job Alerts.csv\")\n",
    "df"
   ]
  },
  {
   "cell_type": "code",
   "execution_count": 202,
   "id": "d0d98966-431e-4778-99d9-20bd7b92eaf1",
   "metadata": {},
   "outputs": [],
   "source": [
    "# remove 'Thread ID' column\n",
    "df = df.drop(columns = ['Thread ID'])"
   ]
  },
  {
   "cell_type": "code",
   "execution_count": 203,
   "id": "a3b5f4c9-d200-481b-90cb-ff987f8d3b00",
   "metadata": {},
   "outputs": [
    {
     "data": {
      "text/plain": [
       "False"
      ]
     },
     "execution_count": 203,
     "metadata": {},
     "output_type": "execute_result"
    }
   ],
   "source": [
    "# check for duplicates\n",
    "df.duplicated().any()"
   ]
  },
  {
   "cell_type": "code",
   "execution_count": 204,
   "id": "e96e71e2-546a-4ce8-a56b-91a195495210",
   "metadata": {},
   "outputs": [
    {
     "name": "stdout",
     "output_type": "stream",
     "text": [
      "<class 'pandas.core.frame.DataFrame'>\n",
      "RangeIndex: 977 entries, 0 to 976\n",
      "Data columns (total 3 columns):\n",
      " #   Column         Non-Null Count  Dtype \n",
      "---  ------         --------------  ----- \n",
      " 0   Date Received  977 non-null    object\n",
      " 1   Subject        977 non-null    object\n",
      " 2   Body           977 non-null    object\n",
      "dtypes: object(3)\n",
      "memory usage: 23.0+ KB\n"
     ]
    }
   ],
   "source": [
    "#check datatype and nulls\n",
    "df.info()"
   ]
  },
  {
   "cell_type": "code",
   "execution_count": 205,
   "id": "c6db1e76-7da9-42ea-8830-6874a75f176d",
   "metadata": {},
   "outputs": [
    {
     "data": {
      "text/plain": [
       "dtype('<M8[ns]')"
      ]
     },
     "execution_count": 205,
     "metadata": {},
     "output_type": "execute_result"
    }
   ],
   "source": [
    "# change 'Date Received' datatype to datetime\n",
    "df['Date Received'] = pd.to_datetime(df['Date Received'])\n",
    "df['Date Received'].dtypes"
   ]
  },
  {
   "cell_type": "code",
   "execution_count": 206,
   "id": "ecdf1613-12b1-493f-ad85-62b1add55267",
   "metadata": {},
   "outputs": [
    {
     "name": "stdout",
     "output_type": "stream",
     "text": [
      "<class 'pandas.core.frame.DataFrame'>\n",
      "RangeIndex: 977 entries, 0 to 976\n",
      "Data columns (total 3 columns):\n",
      " #   Column         Non-Null Count  Dtype         \n",
      "---  ------         --------------  -----         \n",
      " 0   Date Received  977 non-null    datetime64[ns]\n",
      " 1   Subject        977 non-null    object        \n",
      " 2   Body           977 non-null    object        \n",
      "dtypes: datetime64[ns](1), object(2)\n",
      "memory usage: 23.0+ KB\n"
     ]
    }
   ],
   "source": [
    "df.info()"
   ]
  },
  {
   "cell_type": "code",
   "execution_count": 207,
   "id": "f7fd7ef6-35f7-4b73-bbd9-1a913c5783f5",
   "metadata": {},
   "outputs": [
    {
     "data": {
      "text/plain": [
       "dtype('<M8[ns]')"
      ]
     },
     "execution_count": 207,
     "metadata": {},
     "output_type": "execute_result"
    }
   ],
   "source": [
    "# change 'Date Received' datatype to datetime\n",
    "df['Date Received'] = pd.to_datetime(df['Date Received'])\n",
    "df['Date Received'].dtypes"
   ]
  },
  {
   "cell_type": "code",
   "execution_count": 208,
   "id": "f9fc71ac-a939-4e26-a986-81860325d286",
   "metadata": {},
   "outputs": [],
   "source": [
    "# create new date columns\n",
    "df['month_no']= df['Date Received'].dt.month\n",
    "df['month_name']= df['Date Received'].dt.month_name()\n",
    "df['day_in_month']= df['Date Received'].dt.day\n",
    "df['day_in_week']= df['Date Received'].dt.weekday\n",
    "df['dayname']= df['Date Received'].dt.day_name()\n",
    "df['hour']= df['Date Received'].dt.hour"
   ]
  },
  {
   "cell_type": "code",
   "execution_count": 209,
   "id": "bd30a6dd-bc07-41bb-9168-71fcce20d85a",
   "metadata": {},
   "outputs": [],
   "source": [
    "# create new column time_of_day\n",
    "df['time_of_day'] = pd.cut(\n",
    "    df['hour'],\n",
    "    bins = [0,6,12,17,24],\n",
    "    labels = ['Morning','Afternoon', 'Evening','Night'],\n",
    "    right = False\n",
    ")"
   ]
  },
  {
   "cell_type": "code",
   "execution_count": 210,
   "id": "dace76c7-17b4-4dbb-a32f-a83e78d646b1",
   "metadata": {},
   "outputs": [],
   "source": [
    "# create new column week_in_month\n",
    "\n",
    "df[\"week_in_month\"] = (\n",
    "    \"Week \" +\n",
    "    (\n",
    "        df[\"Date Received\"].dt.isocalendar().week\n",
    "        - df[\"Date Received\"].dt.to_period(\"M\").apply(lambda p: p.start_time).dt.isocalendar().week\n",
    "        + 1\n",
    "    ).astype(str)\n",
    ")"
   ]
  },
  {
   "cell_type": "markdown",
   "id": "2e57a9a9-4acc-44e2-ac02-c9e964170531",
   "metadata": {},
   "source": [
    "#### Data Cleaning"
   ]
  },
  {
   "cell_type": "code",
   "execution_count": 211,
   "id": "b888889f-da69-4a89-8ff5-2c172274e66a",
   "metadata": {
    "scrolled": true
   },
   "outputs": [
    {
     "data": {
      "text/plain": [
       "'New job: Financial Data Entry Specialist Virtual Assistant'"
      ]
     },
     "execution_count": 211,
     "metadata": {},
     "output_type": "execute_result"
    }
   ],
   "source": [
    "# view subject structure\n",
    "df['Subject'][0]"
   ]
  },
  {
   "cell_type": "code",
   "execution_count": 212,
   "id": "d3e0034b-768a-4887-a214-e36e652c0bc0",
   "metadata": {},
   "outputs": [
    {
     "data": {
      "text/plain": [
       "0      Financial Data Entry Specialist Virtual Assistant\n",
       "1      Consolidated & Automated Sales Dashboard for A...\n",
       "2            Financial Reporting and Analysis Specialist\n",
       "3      EXCEL combining simple 1 field of 8 files into...\n",
       "4      Power BI + Excel Data Analyst for E-commerce D...\n",
       "                             ...                        \n",
       "972                   Light Data Entry Specialist Needed\n",
       "973       Data Entry Specialist for Prospect Information\n",
       "974    Excel Expert Needed for QSR Menu Costing and F...\n",
       "975    Virtual Assistant for Data Entry & Inbox Monit...\n",
       "976    Need 3 short reports combined into 1 VERY QUIC...\n",
       "Name: Subject, Length: 977, dtype: object"
      ]
     },
     "execution_count": 212,
     "metadata": {},
     "output_type": "execute_result"
    }
   ],
   "source": [
    "#remove 'New job '\n",
    "df['Subject'] = df['Subject'].replace('^New job: ', '', regex = True)\n",
    "df['Subject']"
   ]
  },
  {
   "cell_type": "code",
   "execution_count": 213,
   "id": "42985693-17ae-442b-a2d5-7dcbf2c1fa1b",
   "metadata": {
    "scrolled": true
   },
   "outputs": [
    {
     "data": {
      "text/plain": [
       "0      \\n\\nNew job alert\\n\\nHi, Mercy! This job looks...\n",
       "1      \\n\\nNew job alert\\n\\nHi, Mercy! This job looks...\n",
       "2      \\r\\n\\r\\nNew job alert\\r\\n\\r\\nHi, Mercy! This j...\n",
       "3      \\r\\n\\r\\nNew job alert\\r\\n\\r\\nHi, Mercy! This j...\n",
       "4      \\r\\n\\r\\nNew job alert\\r\\n\\r\\nHi, Mercy! This j...\n",
       "                             ...                        \n",
       "972    \\r\\n\\r\\nNew job alert\\r\\n\\r\\nHi, Mercy! This j...\n",
       "973    \\r\\n\\r\\nNew job alert\\r\\n\\r\\nHi, Mercy! This j...\n",
       "974    \\r\\n\\r\\nNew job alert\\r\\n\\r\\nHi, Mercy! This j...\n",
       "975    \\r\\n\\r\\nNew job alert\\r\\n\\r\\nHi, Mercy! This j...\n",
       "976    \\r\\n\\r\\nNew job alert\\r\\n\\r\\nHi, Mercy! This j...\n",
       "Name: Body, Length: 977, dtype: object"
      ]
     },
     "execution_count": 213,
     "metadata": {},
     "output_type": "execute_result"
    }
   ],
   "source": [
    "# view job post Body structure\n",
    "df['Body']"
   ]
  },
  {
   "cell_type": "code",
   "execution_count": 214,
   "id": "93d302f8-23d2-492c-b0c0-68686bdf31c1",
   "metadata": {
    "scrolled": true
   },
   "outputs": [
    {
     "name": "stdout",
     "output_type": "stream",
     "text": [
      "\n",
      "\n",
      "New job alert\n",
      "\n",
      "Hi, Mercy! This job looks like a match for you. Check it out, and be one of the first to submit a proposal!\n",
      "\n",
      "----------\n",
      "\n",
      "Financial Data Entry Specialist Virtual Assistant\n",
      "\n",
      "We are seeking a Financial Data Entry Specialist / Virtual Assistant to support our team with accurate and organized financial record-keeping. The ideal candidate will have a background in data entry, finance, ... more: https://www.upwork.com/jobs/~021966798576899075061?link=new_job&utm_medium=email&utm_source=mailgun&utm_campaign=match%2Fjob_alerts%2Fnew_job&email_uid=%7B%7Bx-eo-mailgun-id%7D%7D&frkscc=vKDzTPU5m4pM\n",
      "\n",
      "  Fixed: $8\n",
      "\n",
      "  Intermediate\n",
      "\n",
      "  Payment verified\n",
      "\n",
      "  5.0\n",
      "\n",
      "  $385 spent\n",
      "\n",
      "United States\n",
      "\n",
      "                Communication Skills: https://www.upwork.com/jobs/~021966798576899075061?link=new_job&amp;frkscc=IR2zKw9UH3YR\n",
      "\n",
      "Posted on 2025-09-13 10:39\n",
      "\n",
      "View job details: https://www.upwork.com/jobs/~021966798576899075061?link=new_job&frkscc=jO4hD8N05DT3\n",
      "\n",
      "----------\n",
      "\n",
      "        You received this email because Freelancer Plus members have access to job alerts. Notifications are sent based on previous jobs you’ve submitted proposals for. If you no longer want to get these alerts via email, you can manage your alert preferences: https://www.upwork.com/ab/notifications/?tab=job_alerts&settings=true&utm_medium=email&utm_source=mailgun&utm_campaign=match%2Fjob_alerts%2Fnew_job&email_uid=%7B%7Bx-eo-mailgun-id%7D%7D&frkscc=Q3LWkEdUuY7Z.\n",
      "\n",
      "Privacy Policy: https://www.upwork.com/legal?utm_medium=email&utm_source=mailgun&utm_campaign=match%2Fjob_alerts%2Fnew_job&email_uid=%7B%7Bx-eo-mailgun-id%7D%7D&frkscc=shRlc0YQdJn5#privacy\n",
      "Contact Support: https://support.upwork.com/hc?utm_medium=email&utm_source=mailgun&utm_campaign=match%2Fjob_alerts%2Fnew_job&email_uid=%7B%7Bx-eo-mailgun-id%7D%7D&frkscc=Sj9g0vzKudtw\n",
      "530 Lytton Ave, Suite 301, Palo Alto, CA 94301\n",
      "© 2025 Upwork® Global Inc.\n",
      "\n",
      "\n",
      "\n",
      "\n",
      "\n",
      "New job alert\n",
      "\n",
      "Hi, Mercy! This job looks like a match for you. Check it out, and be one of the first to submit a proposal!\n",
      "\n",
      "----------\n",
      "\n",
      "Financial Reporting and Analysis Specialist\n",
      "\n",
      "I'm looking immediately for a detail-oriented Financial Reporting and Analysis Specialist to consolidate multiple financial reports into a single, easy-to-understand view, and run key trend analysis. Project ne... more: https://www.upwork.com/jobs/~021966699281365626028?link=new_job&utm_medium=email&utm_source=mailgun&utm_campaign=match%2Fjob_alerts%2Fnew_job&email_uid=%7B%7Bx-eo-mailgun-id%7D%7D&frkscc=H85vGApR3Fhv\n",
      "\n",
      "  Hourly: $10 - $30\n",
      "\n",
      "  1-3 months\n",
      "\n",
      "  < 30 hr/wk \n",
      "\n",
      "  Expert\n",
      "\n",
      "  Payment verified\n",
      "\n",
      "  5.0\n",
      "\n",
      "  $130 spent\n",
      "\n",
      "USA\n",
      "\n",
      "                Financial Analysis: https://www.upwork.com/jobs/~021966699281365626028?link=new_job&amp;frkscc=8u0Xvs8bDp7U\n",
      "\n",
      "                Microsoft Excel: https://www.upwork.com/jobs/~021966699281365626028?link=new_job&amp;frkscc=l2xCHFSWTduY\n",
      "\n",
      "                Accounting Principles & Practices: https://www.upwork.com/jobs/~021966699281365626028?link=new_job&amp;frkscc=X8m8ITkCyJKh\n",
      "\n",
      "                Financial Modeling: https://www.upwork.com/jobs/~021966699281365626028?link=new_job&amp;frkscc=dYmv30b9sftT\n",
      "\n",
      "                +1: https://www.upwork.com/jobs/~021966699281365626028?link=new_job&amp;frkscc=vF8a8kSVJn3r\n",
      "\n",
      "Posted on 2025-09-13 04:04\n",
      "\n",
      "View job details: https://www.upwork.com/jobs/~021966699281365626028?link=new_job&frkscc=bCZmPjwyIsSk\n",
      "\n",
      "----------\n",
      "\n",
      "        You received this email because Freelancer Plus members have access to job alerts. Notifications are sent based on previous jobs you’ve submitted proposals for. If you no longer want to get these alerts via email, you can manage your alert preferences: https://www.upwork.com/ab/notifications/?tab=job_alerts&settings=true&utm_medium=email&utm_source=mailgun&utm_campaign=match%2Fjob_alerts%2Fnew_job&email_uid=%7B%7Bx-eo-mailgun-id%7D%7D&frkscc=FAOeXmpc9ESB.\n",
      "\n",
      "Privacy Policy: https://www.upwork.com/legal?utm_medium=email&utm_source=mailgun&utm_campaign=match%2Fjob_alerts%2Fnew_job&email_uid=%7B%7Bx-eo-mailgun-id%7D%7D&frkscc=S0JJQoNGZTDB#privacy\n",
      "Contact Support: https://support.upwork.com/hc?utm_medium=email&utm_source=mailgun&utm_campaign=match%2Fjob_alerts%2Fnew_job&email_uid=%7B%7Bx-eo-mailgun-id%7D%7D&frkscc=SAvdUGIl5r9t\n",
      "530 Lytton Ave, Suite 301, Palo Alto, CA 94301\n",
      "© 2025 Upwork® Global Inc.\n",
      "\n",
      "\n"
     ]
    }
   ],
   "source": [
    "# extract sample body text\n",
    "sampletext1 = df['Body'][0]\n",
    "sampletext2 = df['Body'][2]\n",
    "print(sampletext1)\n",
    "print()\n",
    "print(sampletext2)"
   ]
  },
  {
   "cell_type": "code",
   "execution_count": 215,
   "id": "99e33d1c-2840-4a4b-8cb8-67064845297e",
   "metadata": {},
   "outputs": [],
   "source": [
    "  remove_list = [\n",
    "    r'New job alert',\n",
    "    r'Hi, Mercy! This job looks like a match for you\\\\. Check it out, and be one of the first to submit a proposal!',\n",
    "    r'----------',\n",
    "    r'\\\\.\\\\.\\\\. more:',\n",
    "    r'https://(?:www|support)\\\\.upwork\\\\.com\\\\S*',\n",
    "    r'Posted on .+',\n",
    "    r'View job details:',\n",
    "    r'You received this email because Freelancer Plus members have access to job alerts[\\\\s\\\\S]*?© 2025 Upwork® Global Inc\\\\.'\n",
    "]\n",
    "\n",
    "pattern = \"|\".join(remove_list)"
   ]
  },
  {
   "cell_type": "code",
   "execution_count": 216,
   "id": "a0c73aff-6275-4edb-b677-2ad7a65b5d5d",
   "metadata": {},
   "outputs": [
    {
     "data": {
      "text/plain": [
       "0      Hi, Mercy! This job looks like a match for you...\n",
       "1      Hi, Mercy! This job looks like a match for you...\n",
       "2      Hi, Mercy! This job looks like a match for you...\n",
       "3      Hi, Mercy! This job looks like a match for you...\n",
       "4      Hi, Mercy! This job looks like a match for you...\n",
       "                             ...                        \n",
       "972    Hi, Mercy! This job looks like a match for you...\n",
       "973    Hi, Mercy! This job looks like a match for you...\n",
       "974    Hi, Mercy! This job looks like a match for you...\n",
       "975    Hi, Mercy! This job looks like a match for you...\n",
       "976    Hi, Mercy! This job looks like a match for you...\n",
       "Name: Body_cleaned, Length: 977, dtype: object"
      ]
     },
     "execution_count": 216,
     "metadata": {},
     "output_type": "execute_result"
    }
   ],
   "source": [
    "# clean job post\n",
    "df['Body_cleaned'] = (df['Body']\n",
    ".str.replace(pattern, '', regex = True, flags = re.IGNORECASE)\n",
    ".str.replace(r'(?:\\r\\n|\\n){2,}','',regex = True)\n",
    ")\n",
    "\n",
    "df['Body_cleaned']"
   ]
  },
  {
   "cell_type": "markdown",
   "id": "fc8948a8-128f-48b9-9b4f-74d197cd6cb0",
   "metadata": {},
   "source": [
    "##### Extract new columns from job post body"
   ]
  },
  {
   "cell_type": "code",
   "execution_count": 217,
   "id": "f5a23589-ea3f-4db8-b116-066bfef1af4a",
   "metadata": {},
   "outputs": [],
   "source": [
    "#extract contract type\n",
    "df['Contract_Type'] = df['Body_cleaned'].str.extract(r'\\b(Fixed|Hourly)\\b', expand = False)"
   ]
  },
  {
   "cell_type": "code",
   "execution_count": 218,
   "id": "b7098c81-1ae4-4bc5-8b61-24806edd9480",
   "metadata": {},
   "outputs": [],
   "source": [
    "# extract pay_type\n",
    "df['Pay_type'] = df['Body_cleaned'].str.extract(r'( Fixed| Hourly)', expand = False)"
   ]
  },
  {
   "cell_type": "code",
   "execution_count": 219,
   "id": "604e6857-87a2-4149-9ad4-082b71dba64f",
   "metadata": {},
   "outputs": [],
   "source": [
    "# extract pay_rate\n",
    "df[['Fixed_Rate','Hourly_Rate']] = df['Body_cleaned'].str.extract(r'Fixed: \\$(\\d+)|Hourly: (\\$\\d+ - \\$\\d+)',expand = False)"
   ]
  },
  {
   "cell_type": "code",
   "execution_count": 220,
   "id": "b4fa801e-502d-4ecf-adb9-afae97781783",
   "metadata": {},
   "outputs": [],
   "source": [
    "# extract hourly pay midpoint\n",
    "df['Hourly_Rate_MidPoint'] = (df['Hourly_Rate'].str.extract(r'\\$(\\d+)', expand = False).astype(float) + df['Hourly_Rate'].str.extract(r'- \\$(\\d+)', expand = False).astype(float))/2"
   ]
  },
  {
   "cell_type": "code",
   "execution_count": 221,
   "id": "6ab16229-f2da-4d39-afa0-4da5168301a8",
   "metadata": {},
   "outputs": [],
   "source": [
    "# extract client payment status\n",
    "df['Client_Payment_Status'] = df['Body_cleaned'].str.extract(r'(Payment verified|Payment unverified)', expand = False)"
   ]
  },
  {
   "cell_type": "code",
   "execution_count": 222,
   "id": "122d31cc-7180-4f4f-a38d-2652132b6fdd",
   "metadata": {},
   "outputs": [],
   "source": [
    "# extract client rating\n",
    "df['Client_rating'] = df['Body_cleaned'].str.extract(r' (\\d+\\.\\d+) ',expand = False).astype(float)"
   ]
  },
  {
   "cell_type": "code",
   "execution_count": 223,
   "id": "2eee800b-cf58-4868-b7e1-afbbd616b2b5",
   "metadata": {},
   "outputs": [],
   "source": [
    "# extract job experience level\n",
    "df['Experience_level']= df['Body_cleaned'].str.extract(r' (Entry|Intermediate|Expert) ', expand = False)"
   ]
  },
  {
   "cell_type": "code",
   "execution_count": 224,
   "id": "86ad2887-dc3c-401b-bcef-85039f11967e",
   "metadata": {},
   "outputs": [],
   "source": [
    "# extract client spend\n",
    "df['Client_Spend'] = df['Body_cleaned'].str.extract(r'\\$(\\d+\\w) spent', expand = False).fillna(0)"
   ]
  },
  {
   "cell_type": "code",
   "execution_count": 225,
   "id": "74ddb994-316f-44a5-8420-e0c0e1e1c0ad",
   "metadata": {},
   "outputs": [],
   "source": [
    "# extract client spend\n",
    "extracted = df['Client_Spend'].str.extract(r'(\\d+\\.?\\d*)([KM]?)')\n",
    "\n",
    "num = extracted[0].astype(float)\n",
    "\n",
    "suffix = extracted[1]\n",
    "\n",
    "multiplier = suffix.map({'K': 1000, 'M': 1000000}).fillna(1)\n",
    "\n",
    "df['Client_Spend_Numeric'] = num * multiplier"
   ]
  },
  {
   "cell_type": "code",
   "execution_count": 226,
   "id": "88332258-54df-4c9f-9b2a-e3aa78c2ed12",
   "metadata": {},
   "outputs": [],
   "source": [
    "# extract client's country\n",
    "df['Client_Country'] = df['Body'].str.extract(r'spent(?:\\r?\\n){2}([\\w\\s]+)(?:\\r?\\n){2}', expand = False).str.strip('\\r')"
   ]
  },
  {
   "cell_type": "code",
   "execution_count": 227,
   "id": "5756b692-cd95-46a2-877d-ab42823f4b71",
   "metadata": {},
   "outputs": [],
   "source": [
    "# replace United States with USA\n",
    "df['Client_Country'] = df['Client_Country'].replace(r'United States', 'USA')"
   ]
  },
  {
   "cell_type": "code",
   "execution_count": 228,
   "id": "3bb16688-91e4-46be-8a8e-e6c70344bdcf",
   "metadata": {},
   "outputs": [
    {
     "data": {
      "text/html": [
       "<div>\n",
       "<style scoped>\n",
       "    .dataframe tbody tr th:only-of-type {\n",
       "        vertical-align: middle;\n",
       "    }\n",
       "\n",
       "    .dataframe tbody tr th {\n",
       "        vertical-align: top;\n",
       "    }\n",
       "\n",
       "    .dataframe thead th {\n",
       "        text-align: right;\n",
       "    }\n",
       "</style>\n",
       "<table border=\"1\" class=\"dataframe\">\n",
       "  <thead>\n",
       "    <tr style=\"text-align: right;\">\n",
       "      <th></th>\n",
       "      <th>Date Received</th>\n",
       "      <th>Subject</th>\n",
       "      <th>Body</th>\n",
       "      <th>month_no</th>\n",
       "      <th>month_name</th>\n",
       "      <th>day_in_month</th>\n",
       "      <th>day_in_week</th>\n",
       "      <th>dayname</th>\n",
       "      <th>hour</th>\n",
       "      <th>time_of_day</th>\n",
       "      <th>...</th>\n",
       "      <th>Pay_type</th>\n",
       "      <th>Fixed_Rate</th>\n",
       "      <th>Hourly_Rate</th>\n",
       "      <th>Hourly_Rate_MidPoint</th>\n",
       "      <th>Client_Payment_Status</th>\n",
       "      <th>Client_rating</th>\n",
       "      <th>Experience_level</th>\n",
       "      <th>Client_Spend</th>\n",
       "      <th>Client_Spend_Numeric</th>\n",
       "      <th>Client_Country</th>\n",
       "    </tr>\n",
       "  </thead>\n",
       "  <tbody>\n",
       "    <tr>\n",
       "      <th>0</th>\n",
       "      <td>2025-09-13 10:39:17</td>\n",
       "      <td>Financial Data Entry Specialist Virtual Assistant</td>\n",
       "      <td>\\n\\nNew job alert\\n\\nHi, Mercy! This job looks...</td>\n",
       "      <td>9</td>\n",
       "      <td>September</td>\n",
       "      <td>13</td>\n",
       "      <td>5</td>\n",
       "      <td>Saturday</td>\n",
       "      <td>10</td>\n",
       "      <td>Afternoon</td>\n",
       "      <td>...</td>\n",
       "      <td>Fixed</td>\n",
       "      <td>8</td>\n",
       "      <td>NaN</td>\n",
       "      <td>NaN</td>\n",
       "      <td>Payment verified</td>\n",
       "      <td>5.00</td>\n",
       "      <td>Entry</td>\n",
       "      <td>385</td>\n",
       "      <td>385.0</td>\n",
       "      <td>USA</td>\n",
       "    </tr>\n",
       "    <tr>\n",
       "      <th>1</th>\n",
       "      <td>2025-09-13 08:56:33</td>\n",
       "      <td>Consolidated &amp; Automated Sales Dashboard for A...</td>\n",
       "      <td>\\n\\nNew job alert\\n\\nHi, Mercy! This job looks...</td>\n",
       "      <td>9</td>\n",
       "      <td>September</td>\n",
       "      <td>13</td>\n",
       "      <td>5</td>\n",
       "      <td>Saturday</td>\n",
       "      <td>8</td>\n",
       "      <td>Afternoon</td>\n",
       "      <td>...</td>\n",
       "      <td>Fixed</td>\n",
       "      <td>30</td>\n",
       "      <td>NaN</td>\n",
       "      <td>NaN</td>\n",
       "      <td>Payment verified</td>\n",
       "      <td>5.00</td>\n",
       "      <td>Intermediate</td>\n",
       "      <td>50</td>\n",
       "      <td>50.0</td>\n",
       "      <td>ARE</td>\n",
       "    </tr>\n",
       "    <tr>\n",
       "      <th>2</th>\n",
       "      <td>2025-09-13 04:04:14</td>\n",
       "      <td>Financial Reporting and Analysis Specialist</td>\n",
       "      <td>\\r\\n\\r\\nNew job alert\\r\\n\\r\\nHi, Mercy! This j...</td>\n",
       "      <td>9</td>\n",
       "      <td>September</td>\n",
       "      <td>13</td>\n",
       "      <td>5</td>\n",
       "      <td>Saturday</td>\n",
       "      <td>4</td>\n",
       "      <td>Morning</td>\n",
       "      <td>...</td>\n",
       "      <td>Hourly</td>\n",
       "      <td>NaN</td>\n",
       "      <td>$10 - $30</td>\n",
       "      <td>20.0</td>\n",
       "      <td>Payment verified</td>\n",
       "      <td>5.00</td>\n",
       "      <td>Expert</td>\n",
       "      <td>130</td>\n",
       "      <td>130.0</td>\n",
       "      <td>USA</td>\n",
       "    </tr>\n",
       "    <tr>\n",
       "      <th>3</th>\n",
       "      <td>2025-09-13 04:00:46</td>\n",
       "      <td>EXCEL combining simple 1 field of 8 files into...</td>\n",
       "      <td>\\r\\n\\r\\nNew job alert\\r\\n\\r\\nHi, Mercy! This j...</td>\n",
       "      <td>9</td>\n",
       "      <td>September</td>\n",
       "      <td>13</td>\n",
       "      <td>5</td>\n",
       "      <td>Saturday</td>\n",
       "      <td>4</td>\n",
       "      <td>Morning</td>\n",
       "      <td>...</td>\n",
       "      <td>Fixed</td>\n",
       "      <td>10</td>\n",
       "      <td>NaN</td>\n",
       "      <td>NaN</td>\n",
       "      <td>Payment verified</td>\n",
       "      <td>4.05</td>\n",
       "      <td>Entry</td>\n",
       "      <td>103K</td>\n",
       "      <td>103000.0</td>\n",
       "      <td>USA</td>\n",
       "    </tr>\n",
       "    <tr>\n",
       "      <th>4</th>\n",
       "      <td>2025-09-13 03:16:11</td>\n",
       "      <td>Power BI + Excel Data Analyst for E-commerce D...</td>\n",
       "      <td>\\r\\n\\r\\nNew job alert\\r\\n\\r\\nHi, Mercy! This j...</td>\n",
       "      <td>9</td>\n",
       "      <td>September</td>\n",
       "      <td>13</td>\n",
       "      <td>5</td>\n",
       "      <td>Saturday</td>\n",
       "      <td>3</td>\n",
       "      <td>Morning</td>\n",
       "      <td>...</td>\n",
       "      <td>Hourly</td>\n",
       "      <td>NaN</td>\n",
       "      <td>$10 - $25</td>\n",
       "      <td>17.5</td>\n",
       "      <td>Payment verified</td>\n",
       "      <td>4.99</td>\n",
       "      <td>Expert</td>\n",
       "      <td>12K</td>\n",
       "      <td>12000.0</td>\n",
       "      <td>France</td>\n",
       "    </tr>\n",
       "    <tr>\n",
       "      <th>...</th>\n",
       "      <td>...</td>\n",
       "      <td>...</td>\n",
       "      <td>...</td>\n",
       "      <td>...</td>\n",
       "      <td>...</td>\n",
       "      <td>...</td>\n",
       "      <td>...</td>\n",
       "      <td>...</td>\n",
       "      <td>...</td>\n",
       "      <td>...</td>\n",
       "      <td>...</td>\n",
       "      <td>...</td>\n",
       "      <td>...</td>\n",
       "      <td>...</td>\n",
       "      <td>...</td>\n",
       "      <td>...</td>\n",
       "      <td>...</td>\n",
       "      <td>...</td>\n",
       "      <td>...</td>\n",
       "      <td>...</td>\n",
       "      <td>...</td>\n",
       "    </tr>\n",
       "    <tr>\n",
       "      <th>972</th>\n",
       "      <td>2025-07-31 16:56:54</td>\n",
       "      <td>Light Data Entry Specialist Needed</td>\n",
       "      <td>\\r\\n\\r\\nNew job alert\\r\\n\\r\\nHi, Mercy! This j...</td>\n",
       "      <td>7</td>\n",
       "      <td>July</td>\n",
       "      <td>31</td>\n",
       "      <td>3</td>\n",
       "      <td>Thursday</td>\n",
       "      <td>16</td>\n",
       "      <td>Evening</td>\n",
       "      <td>...</td>\n",
       "      <td>Hourly</td>\n",
       "      <td>NaN</td>\n",
       "      <td>$15 - $20</td>\n",
       "      <td>17.5</td>\n",
       "      <td>Payment verified</td>\n",
       "      <td>5.00</td>\n",
       "      <td>Entry</td>\n",
       "      <td>582</td>\n",
       "      <td>582.0</td>\n",
       "      <td>USA</td>\n",
       "    </tr>\n",
       "    <tr>\n",
       "      <th>973</th>\n",
       "      <td>2025-07-31 14:04:07</td>\n",
       "      <td>Data Entry Specialist for Prospect Information</td>\n",
       "      <td>\\r\\n\\r\\nNew job alert\\r\\n\\r\\nHi, Mercy! This j...</td>\n",
       "      <td>7</td>\n",
       "      <td>July</td>\n",
       "      <td>31</td>\n",
       "      <td>3</td>\n",
       "      <td>Thursday</td>\n",
       "      <td>14</td>\n",
       "      <td>Evening</td>\n",
       "      <td>...</td>\n",
       "      <td>Hourly</td>\n",
       "      <td>NaN</td>\n",
       "      <td>NaN</td>\n",
       "      <td>NaN</td>\n",
       "      <td>Payment verified</td>\n",
       "      <td>0.00</td>\n",
       "      <td>Entry</td>\n",
       "      <td>150</td>\n",
       "      <td>150.0</td>\n",
       "      <td>USA</td>\n",
       "    </tr>\n",
       "    <tr>\n",
       "      <th>974</th>\n",
       "      <td>2025-07-31 03:25:12</td>\n",
       "      <td>Excel Expert Needed for QSR Menu Costing and F...</td>\n",
       "      <td>\\r\\n\\r\\nNew job alert\\r\\n\\r\\nHi, Mercy! This j...</td>\n",
       "      <td>7</td>\n",
       "      <td>July</td>\n",
       "      <td>31</td>\n",
       "      <td>3</td>\n",
       "      <td>Thursday</td>\n",
       "      <td>3</td>\n",
       "      <td>Morning</td>\n",
       "      <td>...</td>\n",
       "      <td>Fixed</td>\n",
       "      <td>75</td>\n",
       "      <td>NaN</td>\n",
       "      <td>NaN</td>\n",
       "      <td>Payment verified</td>\n",
       "      <td>4.59</td>\n",
       "      <td>Expert</td>\n",
       "      <td>11K</td>\n",
       "      <td>11000.0</td>\n",
       "      <td>Canada</td>\n",
       "    </tr>\n",
       "    <tr>\n",
       "      <th>975</th>\n",
       "      <td>2025-07-31 02:37:42</td>\n",
       "      <td>Virtual Assistant for Data Entry &amp; Inbox Monit...</td>\n",
       "      <td>\\r\\n\\r\\nNew job alert\\r\\n\\r\\nHi, Mercy! This j...</td>\n",
       "      <td>7</td>\n",
       "      <td>July</td>\n",
       "      <td>31</td>\n",
       "      <td>3</td>\n",
       "      <td>Thursday</td>\n",
       "      <td>2</td>\n",
       "      <td>Morning</td>\n",
       "      <td>...</td>\n",
       "      <td>Hourly</td>\n",
       "      <td>NaN</td>\n",
       "      <td>NaN</td>\n",
       "      <td>NaN</td>\n",
       "      <td>Payment verified</td>\n",
       "      <td>5.00</td>\n",
       "      <td>Entry</td>\n",
       "      <td>7K</td>\n",
       "      <td>7000.0</td>\n",
       "      <td>USA</td>\n",
       "    </tr>\n",
       "    <tr>\n",
       "      <th>976</th>\n",
       "      <td>2025-07-31 01:51:23</td>\n",
       "      <td>Need 3 short reports combined into 1 VERY QUIC...</td>\n",
       "      <td>\\r\\n\\r\\nNew job alert\\r\\n\\r\\nHi, Mercy! This j...</td>\n",
       "      <td>7</td>\n",
       "      <td>July</td>\n",
       "      <td>31</td>\n",
       "      <td>3</td>\n",
       "      <td>Thursday</td>\n",
       "      <td>1</td>\n",
       "      <td>Morning</td>\n",
       "      <td>...</td>\n",
       "      <td>Fixed</td>\n",
       "      <td>5</td>\n",
       "      <td>NaN</td>\n",
       "      <td>NaN</td>\n",
       "      <td>Payment verified</td>\n",
       "      <td>4.69</td>\n",
       "      <td>Entry</td>\n",
       "      <td>19K</td>\n",
       "      <td>19000.0</td>\n",
       "      <td>Australia</td>\n",
       "    </tr>\n",
       "  </tbody>\n",
       "</table>\n",
       "<p>977 rows × 23 columns</p>\n",
       "</div>"
      ],
      "text/plain": [
       "          Date Received                                            Subject  \\\n",
       "0   2025-09-13 10:39:17  Financial Data Entry Specialist Virtual Assistant   \n",
       "1   2025-09-13 08:56:33  Consolidated & Automated Sales Dashboard for A...   \n",
       "2   2025-09-13 04:04:14        Financial Reporting and Analysis Specialist   \n",
       "3   2025-09-13 04:00:46  EXCEL combining simple 1 field of 8 files into...   \n",
       "4   2025-09-13 03:16:11  Power BI + Excel Data Analyst for E-commerce D...   \n",
       "..                  ...                                                ...   \n",
       "972 2025-07-31 16:56:54                 Light Data Entry Specialist Needed   \n",
       "973 2025-07-31 14:04:07     Data Entry Specialist for Prospect Information   \n",
       "974 2025-07-31 03:25:12  Excel Expert Needed for QSR Menu Costing and F...   \n",
       "975 2025-07-31 02:37:42  Virtual Assistant for Data Entry & Inbox Monit...   \n",
       "976 2025-07-31 01:51:23  Need 3 short reports combined into 1 VERY QUIC...   \n",
       "\n",
       "                                                  Body  month_no month_name  \\\n",
       "0    \\n\\nNew job alert\\n\\nHi, Mercy! This job looks...         9  September   \n",
       "1    \\n\\nNew job alert\\n\\nHi, Mercy! This job looks...         9  September   \n",
       "2    \\r\\n\\r\\nNew job alert\\r\\n\\r\\nHi, Mercy! This j...         9  September   \n",
       "3    \\r\\n\\r\\nNew job alert\\r\\n\\r\\nHi, Mercy! This j...         9  September   \n",
       "4    \\r\\n\\r\\nNew job alert\\r\\n\\r\\nHi, Mercy! This j...         9  September   \n",
       "..                                                 ...       ...        ...   \n",
       "972  \\r\\n\\r\\nNew job alert\\r\\n\\r\\nHi, Mercy! This j...         7       July   \n",
       "973  \\r\\n\\r\\nNew job alert\\r\\n\\r\\nHi, Mercy! This j...         7       July   \n",
       "974  \\r\\n\\r\\nNew job alert\\r\\n\\r\\nHi, Mercy! This j...         7       July   \n",
       "975  \\r\\n\\r\\nNew job alert\\r\\n\\r\\nHi, Mercy! This j...         7       July   \n",
       "976  \\r\\n\\r\\nNew job alert\\r\\n\\r\\nHi, Mercy! This j...         7       July   \n",
       "\n",
       "     day_in_month  day_in_week   dayname  hour time_of_day  ... Pay_type  \\\n",
       "0              13            5  Saturday    10   Afternoon  ...    Fixed   \n",
       "1              13            5  Saturday     8   Afternoon  ...    Fixed   \n",
       "2              13            5  Saturday     4     Morning  ...   Hourly   \n",
       "3              13            5  Saturday     4     Morning  ...    Fixed   \n",
       "4              13            5  Saturday     3     Morning  ...   Hourly   \n",
       "..            ...          ...       ...   ...         ...  ...      ...   \n",
       "972            31            3  Thursday    16     Evening  ...   Hourly   \n",
       "973            31            3  Thursday    14     Evening  ...   Hourly   \n",
       "974            31            3  Thursday     3     Morning  ...    Fixed   \n",
       "975            31            3  Thursday     2     Morning  ...   Hourly   \n",
       "976            31            3  Thursday     1     Morning  ...    Fixed   \n",
       "\n",
       "    Fixed_Rate Hourly_Rate Hourly_Rate_MidPoint Client_Payment_Status  \\\n",
       "0            8         NaN                  NaN      Payment verified   \n",
       "1           30         NaN                  NaN      Payment verified   \n",
       "2          NaN   $10 - $30                 20.0      Payment verified   \n",
       "3           10         NaN                  NaN      Payment verified   \n",
       "4          NaN   $10 - $25                 17.5      Payment verified   \n",
       "..         ...         ...                  ...                   ...   \n",
       "972        NaN   $15 - $20                 17.5      Payment verified   \n",
       "973        NaN         NaN                  NaN      Payment verified   \n",
       "974         75         NaN                  NaN      Payment verified   \n",
       "975        NaN         NaN                  NaN      Payment verified   \n",
       "976          5         NaN                  NaN      Payment verified   \n",
       "\n",
       "    Client_rating  Experience_level Client_Spend  Client_Spend_Numeric  \\\n",
       "0            5.00             Entry          385                 385.0   \n",
       "1            5.00      Intermediate           50                  50.0   \n",
       "2            5.00            Expert          130                 130.0   \n",
       "3            4.05             Entry         103K              103000.0   \n",
       "4            4.99            Expert          12K               12000.0   \n",
       "..            ...               ...          ...                   ...   \n",
       "972          5.00             Entry          582                 582.0   \n",
       "973          0.00             Entry          150                 150.0   \n",
       "974          4.59            Expert          11K               11000.0   \n",
       "975          5.00             Entry           7K                7000.0   \n",
       "976          4.69             Entry          19K               19000.0   \n",
       "\n",
       "    Client_Country  \n",
       "0              USA  \n",
       "1              ARE  \n",
       "2              USA  \n",
       "3              USA  \n",
       "4           France  \n",
       "..             ...  \n",
       "972            USA  \n",
       "973            USA  \n",
       "974         Canada  \n",
       "975            USA  \n",
       "976      Australia  \n",
       "\n",
       "[977 rows x 23 columns]"
      ]
     },
     "execution_count": 228,
     "metadata": {},
     "output_type": "execute_result"
    }
   ],
   "source": [
    "# view dataset\n",
    "df"
   ]
  },
  {
   "cell_type": "markdown",
   "id": "19a671ec-cc6a-422f-9b16-4fb36dd04a43",
   "metadata": {},
   "source": [
    "#### Analysis"
   ]
  },
  {
   "cell_type": "code",
   "execution_count": 229,
   "id": "5909f09e-59dd-4583-af18-d1707451e8cd",
   "metadata": {},
   "outputs": [
    {
     "name": "stdout",
     "output_type": "stream",
     "text": [
      "977 job alerts were received in 44 days between July 31 and September 13 \n"
     ]
    }
   ],
   "source": [
    "# total alerts received\n",
    "totalalerts = len(df)\n",
    "min_date = df['Date Received'].min()\n",
    "max_date = df['Date Received'].max()\n",
    "totaldays = (max_date - min_date).days\n",
    "\n",
    "print(f\"{len(df)} job alerts were received in {totaldays} days between {min_date.month_name()} {min_date.day} and {max_date.month_name()} {max_date.day} \")"
   ]
  },
  {
   "cell_type": "code",
   "execution_count": 230,
   "id": "059c5162-34e4-4455-98ea-b56228ced605",
   "metadata": {},
   "outputs": [
    {
     "name": "stdout",
     "output_type": "stream",
     "text": [
      "One average 22.0 job alerts were received per day\n"
     ]
    }
   ],
   "source": [
    "# average job alert volume by day\n",
    "print(f\"One average {round(totalalerts/totaldays,0)} job alerts were received per day\")\n"
   ]
  },
  {
   "cell_type": "code",
   "execution_count": 231,
   "id": "05af07e5-4d17-4f60-9c77-c4be123a958d",
   "metadata": {},
   "outputs": [
    {
     "name": "stdout",
     "output_type": "stream",
     "text": [
      "                     freq_job_alerts  unique_days\n",
      "month_no month_name                              \n",
      "7        July                     10            1\n",
      "8        August                  623           31\n",
      "9        September               344           13\n"
     ]
    }
   ],
   "source": [
    "# job alerts per month\n",
    "df['date'] = df['Date Received'].dt.date\n",
    "job_alerts_monthly = df.groupby([df['month_no'],df['month_name']]).agg(\n",
    "        freq_job_alerts= ('Subject', 'count'),\n",
    "        unique_days = ('date', 'nunique')\n",
    "    ).sort_values('month_no')\n",
    "print(job_alerts_monthly)"
   ]
  },
  {
   "cell_type": "code",
   "execution_count": 232,
   "id": "892a5880-b616-4a03-a82c-10d46fb9cb25",
   "metadata": {},
   "outputs": [],
   "source": [
    "job_alerts_monthly = job_alerts_monthly.reset_index()"
   ]
  },
  {
   "cell_type": "code",
   "execution_count": 233,
   "id": "d5708163-cbd9-4b0e-97cd-6f8e321d7178",
   "metadata": {},
   "outputs": [
    {
     "data": {
      "image/png": "[encoded data removed]",
      "text/plain": [
       "<Figure size 1000x600 with 1 Axes>"
      ]
     },
     "metadata": {},
     "output_type": "display_data"
    }
   ],
   "source": [
    "# visualize job alerts per month\n",
    "plt.figure(figsize=(10,6))\n",
    "plt.bar(job_alerts_monthly['month_name'], job_alerts_monthly['freq_job_alerts'], color='skyblue')\n",
    "\n",
    "plt.xlabel('Month')\n",
    "plt.ylabel('Number of Job Alerts')\n",
    "plt.title('Job Alerts per Month')\n",
    "plt.xticks(rotation=45)  # rotate month names if needed\n",
    "plt.show()"
   ]
  },
  {
   "cell_type": "code",
   "execution_count": 234,
   "id": "2222e0b2-e74b-4f00-92aa-1686958566dc",
   "metadata": {},
   "outputs": [
    {
     "data": {
      "text/plain": [
       "day_in_week  dayname  \n",
       "0            Monday       120\n",
       "1            Tuesday      172\n",
       "2            Wednesday    174\n",
       "3            Thursday     191\n",
       "4            Friday       153\n",
       "5            Saturday      83\n",
       "6            Sunday        84\n",
       "Name: Subject, dtype: int64"
      ]
     },
     "execution_count": 234,
     "metadata": {},
     "output_type": "execute_result"
    }
   ],
   "source": [
    "# job alerts per weekday\n",
    "df.groupby([df['day_in_week'],df['dayname']])['Subject'].count()"
   ]
  },
  {
   "cell_type": "code",
   "execution_count": 235,
   "id": "670da8d9-e0b5-4618-999b-8ea9f277e3d7",
   "metadata": {},
   "outputs": [],
   "source": [
    "job_alerts_weekday = df.groupby(['day_in_week', 'dayname'])['Subject'].count().reset_index(name='freq_job_alerts')\n",
    "job_alerts_weekday = job_alerts_weekday.sort_values('day_in_week')"
   ]
  },
  {
   "cell_type": "code",
   "execution_count": 236,
   "id": "d323ba9f-f1d1-4e47-9d9b-1f9c0d11cb96",
   "metadata": {},
   "outputs": [
    {
     "data": {
      "image/png": "[encoded data removed]",
      "text/plain": [
       "<Figure size 800x500 with 1 Axes>"
      ]
     },
     "metadata": {},
     "output_type": "display_data"
    }
   ],
   "source": [
    "# visualize job alerts per weekday\n",
    "\n",
    "plt.figure(figsize=(8,5))\n",
    "sns.barplot(\n",
    "    x='dayname',\n",
    "    y='freq_job_alerts',\n",
    "    data=job_alerts_weekday,\n",
    "    color='skyblue'   # single solid color instead of palette\n",
    ")\n",
    "plt.xlabel('Day of the Week')\n",
    "plt.ylabel('Number of Job Alerts')\n",
    "plt.title('Job Alerts per Weekday')\n",
    "plt.show()\n"
   ]
  },
  {
   "cell_type": "code",
   "execution_count": 237,
   "id": "6641aaf1-8f0f-408a-a0df-622f9f45fc43",
   "metadata": {},
   "outputs": [
    {
     "data": {
      "text/html": [
       "<div>\n",
       "<style scoped>\n",
       "    .dataframe tbody tr th:only-of-type {\n",
       "        vertical-align: middle;\n",
       "    }\n",
       "\n",
       "    .dataframe tbody tr th {\n",
       "        vertical-align: top;\n",
       "    }\n",
       "\n",
       "    .dataframe thead th {\n",
       "        text-align: right;\n",
       "    }\n",
       "</style>\n",
       "<table border=\"1\" class=\"dataframe\">\n",
       "  <thead>\n",
       "    <tr style=\"text-align: right;\">\n",
       "      <th>week_in_month</th>\n",
       "      <th>month_no</th>\n",
       "      <th>month_name</th>\n",
       "      <th>Week 1</th>\n",
       "      <th>Week 2</th>\n",
       "      <th>Week 3</th>\n",
       "      <th>Week 4</th>\n",
       "      <th>Week 5</th>\n",
       "    </tr>\n",
       "  </thead>\n",
       "  <tbody>\n",
       "    <tr>\n",
       "      <th>0</th>\n",
       "      <td>7</td>\n",
       "      <td>July</td>\n",
       "      <td>NaN</td>\n",
       "      <td>NaN</td>\n",
       "      <td>NaN</td>\n",
       "      <td>NaN</td>\n",
       "      <td>10.0</td>\n",
       "    </tr>\n",
       "    <tr>\n",
       "      <th>1</th>\n",
       "      <td>8</td>\n",
       "      <td>August</td>\n",
       "      <td>24.0</td>\n",
       "      <td>140.0</td>\n",
       "      <td>141.0</td>\n",
       "      <td>166.0</td>\n",
       "      <td>152.0</td>\n",
       "    </tr>\n",
       "    <tr>\n",
       "      <th>2</th>\n",
       "      <td>9</td>\n",
       "      <td>September</td>\n",
       "      <td>166.0</td>\n",
       "      <td>178.0</td>\n",
       "      <td>NaN</td>\n",
       "      <td>NaN</td>\n",
       "      <td>NaN</td>\n",
       "    </tr>\n",
       "  </tbody>\n",
       "</table>\n",
       "</div>"
      ],
      "text/plain": [
       "week_in_month  month_no month_name  Week 1  Week 2  Week 3  Week 4  Week 5\n",
       "0                     7       July     NaN     NaN     NaN     NaN    10.0\n",
       "1                     8     August    24.0   140.0   141.0   166.0   152.0\n",
       "2                     9  September   166.0   178.0     NaN     NaN     NaN"
      ]
     },
     "execution_count": 237,
     "metadata": {},
     "output_type": "execute_result"
    }
   ],
   "source": [
    "# job alerts per month & week\n",
    "\n",
    "job_alerts_pivot  = df.pivot_table(\n",
    "    index = ['month_no','month_name'],\n",
    "    columns = 'week_in_month',\n",
    "    values = 'Subject',\n",
    "    aggfunc = 'count'\n",
    ").sort_index(level='month_no')\n",
    "\n",
    "job_alerts_pivot = job_alerts_pivot.reset_index()\n",
    "\n",
    "job_alerts_pivot\n"
   ]
  },
  {
   "cell_type": "code",
   "execution_count": 238,
   "id": "ad37b999-0347-48d9-849e-329ca5debccf",
   "metadata": {},
   "outputs": [
    {
     "data": {
      "image/png": "[encoded data removed]",
      "text/plain": [
       "<Figure size 1200x600 with 1 Axes>"
      ]
     },
     "metadata": {},
     "output_type": "display_data"
    }
   ],
   "source": [
    "# visualize job alerts per month & week\n",
    "\n",
    "# Weeks as columns\n",
    "weeks = job_alerts_pivot.columns[2:]  # skip month_no and month_name\n",
    "x = np.arange(len(job_alerts_pivot))  # the label locations\n",
    "width = 0.15  # width of each bar\n",
    "\n",
    "plt.figure(figsize=(12,6))\n",
    "\n",
    "# Plot each week\n",
    "for i, week in enumerate(weeks):\n",
    "    plt.bar(x + i*width, job_alerts_pivot[week], width=width, label=f'Week {week}')\n",
    "\n",
    "# Labels\n",
    "plt.xticks(x + width*(len(weeks)-1)/2, job_alerts_pivot['month_name'])\n",
    "plt.xlabel('Month')\n",
    "plt.ylabel('Number of Job Alerts')\n",
    "plt.title('Job Alerts per Month & Week')\n",
    "plt.legend(title='Week')\n",
    "plt.show()"
   ]
  },
  {
   "cell_type": "code",
   "execution_count": 239,
   "id": "1dd1e40c-c266-40b4-ae15-d47ef8016638",
   "metadata": {},
   "outputs": [
    {
     "name": "stderr",
     "output_type": "stream",
     "text": [
      "C:\\Users\\PC\\AppData\\Local\\Temp\\ipykernel_7040\\1604207932.py:2: FutureWarning: The default of observed=False is deprecated and will be changed to True in a future version of pandas. Pass observed=False to retain current behavior or observed=True to adopt the future default and silence this warning.\n",
      "  job_alerts_time = df.groupby('time_of_day')['Subject'].count().reset_index(name='freq_job_alerts')\n"
     ]
    },
    {
     "data": {
      "text/html": [
       "<div>\n",
       "<style scoped>\n",
       "    .dataframe tbody tr th:only-of-type {\n",
       "        vertical-align: middle;\n",
       "    }\n",
       "\n",
       "    .dataframe tbody tr th {\n",
       "        vertical-align: top;\n",
       "    }\n",
       "\n",
       "    .dataframe thead th {\n",
       "        text-align: right;\n",
       "    }\n",
       "</style>\n",
       "<table border=\"1\" class=\"dataframe\">\n",
       "  <thead>\n",
       "    <tr style=\"text-align: right;\">\n",
       "      <th></th>\n",
       "      <th>time_of_day</th>\n",
       "      <th>freq_job_alerts</th>\n",
       "    </tr>\n",
       "  </thead>\n",
       "  <tbody>\n",
       "    <tr>\n",
       "      <th>0</th>\n",
       "      <td>Morning</td>\n",
       "      <td>197</td>\n",
       "    </tr>\n",
       "    <tr>\n",
       "      <th>1</th>\n",
       "      <td>Afternoon</td>\n",
       "      <td>197</td>\n",
       "    </tr>\n",
       "    <tr>\n",
       "      <th>2</th>\n",
       "      <td>Evening</td>\n",
       "      <td>242</td>\n",
       "    </tr>\n",
       "    <tr>\n",
       "      <th>3</th>\n",
       "      <td>Night</td>\n",
       "      <td>341</td>\n",
       "    </tr>\n",
       "  </tbody>\n",
       "</table>\n",
       "</div>"
      ],
      "text/plain": [
       "  time_of_day  freq_job_alerts\n",
       "0     Morning              197\n",
       "1   Afternoon              197\n",
       "2     Evening              242\n",
       "3       Night              341"
      ]
     },
     "execution_count": 239,
     "metadata": {},
     "output_type": "execute_result"
    }
   ],
   "source": [
    "# job alerts by time of day\n",
    "job_alerts_time = df.groupby('time_of_day')['Subject'].count().reset_index(name='freq_job_alerts')\n",
    "job_alerts_time"
   ]
  },
  {
   "cell_type": "code",
   "execution_count": 240,
   "id": "55b01357-f136-4271-ba00-9e1ea6ce2049",
   "metadata": {},
   "outputs": [],
   "source": [
    "time_order = ['Morning', 'Afternoon', 'Evening', 'Night']\n",
    "job_alerts_time['time_of_day'] = pd.Categorical(job_alerts_time['time_of_day'],\n",
    "                                                categories=time_order,\n",
    "                                                ordered=True)\n",
    "job_alerts_time = job_alerts_time.sort_values('time_of_day')"
   ]
  },
  {
   "cell_type": "code",
   "execution_count": 241,
   "id": "deb5e01d-4147-4f22-967a-6b67df8a34a8",
   "metadata": {},
   "outputs": [
    {
     "data": {
      "image/png": "[encoded data removed]",
      "text/plain": [
       "<Figure size 700x700 with 1 Axes>"
      ]
     },
     "metadata": {},
     "output_type": "display_data"
    }
   ],
   "source": [
    "# visualize job alerts by time of day\n",
    "plt.figure(figsize=(7,7))\n",
    "plt.pie(\n",
    "    job_alerts_time['freq_job_alerts'],\n",
    "    labels=job_alerts_time['time_of_day'],\n",
    "    autopct='%1.1f%%',\n",
    "    startangle=90,  # rotate the first slice to top\n",
    "    counterclock=False,  # slices go clockwise\n",
    "    colors=['skyblue', 'lightgreen', 'orange', 'pink']\n",
    ")\n",
    "plt.title('Job Alerts by Time of Day')\n",
    "plt.show()"
   ]
  },
  {
   "cell_type": "code",
   "execution_count": 242,
   "id": "39d11c7f-62e4-488c-b744-49918264fb5f",
   "metadata": {},
   "outputs": [
    {
     "data": {
      "text/html": [
       "<div>\n",
       "<style scoped>\n",
       "    .dataframe tbody tr th:only-of-type {\n",
       "        vertical-align: middle;\n",
       "    }\n",
       "\n",
       "    .dataframe tbody tr th {\n",
       "        vertical-align: top;\n",
       "    }\n",
       "\n",
       "    .dataframe thead th {\n",
       "        text-align: right;\n",
       "    }\n",
       "</style>\n",
       "<table border=\"1\" class=\"dataframe\">\n",
       "  <thead>\n",
       "    <tr style=\"text-align: right;\">\n",
       "      <th></th>\n",
       "      <th>hour</th>\n",
       "      <th>freq_job_alerts</th>\n",
       "    </tr>\n",
       "  </thead>\n",
       "  <tbody>\n",
       "    <tr>\n",
       "      <th>0</th>\n",
       "      <td>0</td>\n",
       "      <td>31</td>\n",
       "    </tr>\n",
       "    <tr>\n",
       "      <th>1</th>\n",
       "      <td>1</td>\n",
       "      <td>48</td>\n",
       "    </tr>\n",
       "    <tr>\n",
       "      <th>2</th>\n",
       "      <td>2</td>\n",
       "      <td>37</td>\n",
       "    </tr>\n",
       "    <tr>\n",
       "      <th>3</th>\n",
       "      <td>3</td>\n",
       "      <td>27</td>\n",
       "    </tr>\n",
       "    <tr>\n",
       "      <th>4</th>\n",
       "      <td>4</td>\n",
       "      <td>28</td>\n",
       "    </tr>\n",
       "    <tr>\n",
       "      <th>5</th>\n",
       "      <td>5</td>\n",
       "      <td>26</td>\n",
       "    </tr>\n",
       "    <tr>\n",
       "      <th>6</th>\n",
       "      <td>6</td>\n",
       "      <td>23</td>\n",
       "    </tr>\n",
       "    <tr>\n",
       "      <th>7</th>\n",
       "      <td>7</td>\n",
       "      <td>26</td>\n",
       "    </tr>\n",
       "    <tr>\n",
       "      <th>8</th>\n",
       "      <td>8</td>\n",
       "      <td>42</td>\n",
       "    </tr>\n",
       "    <tr>\n",
       "      <th>9</th>\n",
       "      <td>9</td>\n",
       "      <td>32</td>\n",
       "    </tr>\n",
       "    <tr>\n",
       "      <th>10</th>\n",
       "      <td>10</td>\n",
       "      <td>38</td>\n",
       "    </tr>\n",
       "    <tr>\n",
       "      <th>11</th>\n",
       "      <td>11</td>\n",
       "      <td>36</td>\n",
       "    </tr>\n",
       "    <tr>\n",
       "      <th>12</th>\n",
       "      <td>12</td>\n",
       "      <td>36</td>\n",
       "    </tr>\n",
       "    <tr>\n",
       "      <th>13</th>\n",
       "      <td>13</td>\n",
       "      <td>44</td>\n",
       "    </tr>\n",
       "    <tr>\n",
       "      <th>14</th>\n",
       "      <td>14</td>\n",
       "      <td>58</td>\n",
       "    </tr>\n",
       "    <tr>\n",
       "      <th>15</th>\n",
       "      <td>15</td>\n",
       "      <td>54</td>\n",
       "    </tr>\n",
       "    <tr>\n",
       "      <th>16</th>\n",
       "      <td>16</td>\n",
       "      <td>50</td>\n",
       "    </tr>\n",
       "    <tr>\n",
       "      <th>17</th>\n",
       "      <td>17</td>\n",
       "      <td>53</td>\n",
       "    </tr>\n",
       "    <tr>\n",
       "      <th>18</th>\n",
       "      <td>18</td>\n",
       "      <td>53</td>\n",
       "    </tr>\n",
       "    <tr>\n",
       "      <th>19</th>\n",
       "      <td>19</td>\n",
       "      <td>57</td>\n",
       "    </tr>\n",
       "    <tr>\n",
       "      <th>20</th>\n",
       "      <td>20</td>\n",
       "      <td>58</td>\n",
       "    </tr>\n",
       "    <tr>\n",
       "      <th>21</th>\n",
       "      <td>21</td>\n",
       "      <td>44</td>\n",
       "    </tr>\n",
       "    <tr>\n",
       "      <th>22</th>\n",
       "      <td>22</td>\n",
       "      <td>39</td>\n",
       "    </tr>\n",
       "    <tr>\n",
       "      <th>23</th>\n",
       "      <td>23</td>\n",
       "      <td>37</td>\n",
       "    </tr>\n",
       "  </tbody>\n",
       "</table>\n",
       "</div>"
      ],
      "text/plain": [
       "    hour  freq_job_alerts\n",
       "0      0               31\n",
       "1      1               48\n",
       "2      2               37\n",
       "3      3               27\n",
       "4      4               28\n",
       "5      5               26\n",
       "6      6               23\n",
       "7      7               26\n",
       "8      8               42\n",
       "9      9               32\n",
       "10    10               38\n",
       "11    11               36\n",
       "12    12               36\n",
       "13    13               44\n",
       "14    14               58\n",
       "15    15               54\n",
       "16    16               50\n",
       "17    17               53\n",
       "18    18               53\n",
       "19    19               57\n",
       "20    20               58\n",
       "21    21               44\n",
       "22    22               39\n",
       "23    23               37"
      ]
     },
     "execution_count": 242,
     "metadata": {},
     "output_type": "execute_result"
    }
   ],
   "source": [
    "# job alerts by time of day\n",
    "job_alerts_hourly  =  df.groupby('hour')['Subject'].count().reset_index(name='freq_job_alerts')\n",
    "job_alerts_hourly "
   ]
  },
  {
   "cell_type": "code",
   "execution_count": 243,
   "id": "520ea881-f726-4f3c-a539-a0abb0c66307",
   "metadata": {
    "scrolled": true
   },
   "outputs": [
    {
     "data": {
      "image/png": "[encoded data removed]",
      "text/plain": [
       "<Figure size 1000x500 with 1 Axes>"
      ]
     },
     "metadata": {},
     "output_type": "display_data"
    }
   ],
   "source": [
    "# job alerts by time of day\n",
    "plt.figure(figsize=(10,5))\n",
    "plt.plot(\n",
    "    job_alerts_hourly['hour'],\n",
    "    job_alerts_hourly['freq_job_alerts'],\n",
    "    marker='o',\n",
    "    linestyle='-',\n",
    "    color='skyblue'\n",
    ")\n",
    "plt.xticks(range(0,24))  # all hours\n",
    "plt.xlabel('Hour of the Day')\n",
    "plt.ylabel('Number of Job Alerts')\n",
    "plt.title('Job Alerts by Hour')\n",
    "plt.grid(True)\n",
    "plt.show()"
   ]
  },
  {
   "cell_type": "code",
   "execution_count": 244,
   "id": "44827243-dfab-4299-9077-cf55527d2ce3",
   "metadata": {},
   "outputs": [
    {
     "data": {
      "image/png": "[encoded data removed]",
      "text/plain": [
       "<Figure size 1200x600 with 1 Axes>"
      ]
     },
     "metadata": {},
     "output_type": "display_data"
    }
   ],
   "source": [
    "# job alerts by day\n",
    "job_alerts_daily  = (\n",
    "    df.groupby('date')['Subject']\n",
    "    .count()\n",
    "    .reset_index(name='freq_job_alerts_day')\n",
    ")\n",
    "\n",
    "# job alerts daily trend\n",
    "plt.figure(figsize=(12,6))\n",
    "plt.plot(\n",
    "    job_alerts_daily['date'],             \n",
    "    job_alerts_daily['freq_job_alerts_day'], \n",
    "    marker='o',\n",
    "    linestyle='-',\n",
    "    color='skyblue'\n",
    ")\n",
    "plt.xticks(rotation=45) \n",
    "plt.ylabel('Number of Job Alerts')\n",
    "plt.title('Job Alerts by Day')\n",
    "plt.grid(True)\n",
    "plt.tight_layout()\n",
    "plt.show()"
   ]
  },
  {
   "cell_type": "code",
   "execution_count": 245,
   "id": "c646d9d2-5ac0-415a-9f2c-67d1e6a87a2f",
   "metadata": {},
   "outputs": [
    {
     "data": {
      "text/plain": [
       "Pay_type\n",
       "Fixed     479\n",
       "Hourly    498\n",
       "Name: Pay_type, dtype: int64"
      ]
     },
     "execution_count": 245,
     "metadata": {},
     "output_type": "execute_result"
    }
   ],
   "source": [
    "# job alerts by pay type\n",
    "\n",
    "df.groupby(['Pay_type'])['Pay_type'].count()"
   ]
  },
  {
   "cell_type": "code",
   "execution_count": 246,
   "id": "f1bdc499-04c9-44c1-b81d-72196e10061b",
   "metadata": {},
   "outputs": [
    {
     "data": {
      "image/png": "[encoded data removed]",
      "text/plain": [
       "<Figure size 640x480 with 1 Axes>"
      ]
     },
     "metadata": {},
     "output_type": "display_data"
    }
   ],
   "source": [
    "# visualize job alerts by pay type\n",
    "\n",
    "df.groupby(['Pay_type'])['Pay_type'].count().plot.pie(autopct='%1.1f%%',startangle=90)\n",
    "plt.ylabel('')\n",
    "plt.show()"
   ]
  },
  {
   "cell_type": "code",
   "execution_count": 247,
   "id": "2eceb9fd-ff1b-47cc-adca-14ce77bed306",
   "metadata": {},
   "outputs": [
    {
     "name": "stdout",
     "output_type": "stream",
     "text": [
      "Average fixed contract rate is $94.14\n"
     ]
    }
   ],
   "source": [
    "# What's the average Fixed Contract Pay\n",
    "\n",
    "totalfixedAmount = df['Fixed_Rate'][df['Pay_type'] == ' Fixed'].astype(float).sum() \n",
    "totalfixedcount = df['Fixed_Rate'][df['Pay_type'] == ' Fixed'].astype(float).count()\n",
    "\n",
    "average_fixed_contract_rate = round(totalfixedAmount/totalfixedcount,2)\n",
    "print(f\"Average fixed contract rate is ${average_fixed_contract_rate}\")"
   ]
  },
  {
   "cell_type": "code",
   "execution_count": 248,
   "id": "6c3683cc-8615-4c8c-a522-cecbce4fab97",
   "metadata": {},
   "outputs": [
    {
     "name": "stdout",
     "output_type": "stream",
     "text": [
      "Average hourly contract rate is $24.84 per hour\n"
     ]
    }
   ],
   "source": [
    "# What's the average Hourly Contract Pay\n",
    "\n",
    "totalHourlyAmount = df['Hourly_Rate_MidPoint'][df['Pay_type'] == ' Hourly'].astype(float).sum() \n",
    "totalHourlycount = df['Hourly_Rate_MidPoint'][df['Pay_type'] == ' Hourly'].astype(float).count()\n",
    "\n",
    "average_fixed_contract_rate = round(totalHourlyAmount/totalHourlycount,2)\n",
    "print(f\"Average hourly contract rate is ${average_fixed_contract_rate} per hour\")"
   ]
  },
  {
   "cell_type": "code",
   "execution_count": 249,
   "id": "c98d4127-8dab-42a2-9aa1-d57878c37b8b",
   "metadata": {},
   "outputs": [
    {
     "name": "stdout",
     "output_type": "stream",
     "text": [
      "Client_Payment_Status\n",
      "Payment verified    977\n",
      "Name: Client_Payment_Status, dtype: int64\n",
      "\n",
      "all job alerts sent were from payment verified clients\n"
     ]
    }
   ],
   "source": [
    "# job alerts by client payment status\n",
    "\n",
    "print(df.groupby(['Client_Payment_Status'])['Client_Payment_Status'].count())\n",
    "print()\n",
    "print('all job alerts sent were from payment verified clients')"
   ]
  },
  {
   "cell_type": "code",
   "execution_count": 250,
   "id": "5a533914-ea9a-43b6-bfc4-51dbf105d654",
   "metadata": {},
   "outputs": [
    {
     "name": "stdout",
     "output_type": "stream",
     "text": [
      "Average client rating is 4.42 / 5\n"
     ]
    }
   ],
   "source": [
    "# What's the average Client rating\n",
    "\n",
    "totalrating = df['Client_rating'].sum()\n",
    "totalcount = df['Client_rating'].count()\n",
    "\n",
    "average_client_rating = round(totalrating/totalcount,2)\n",
    "print(f\"Average client rating is {average_client_rating} / 5\")"
   ]
  },
  {
   "cell_type": "code",
   "execution_count": 251,
   "id": "40d0597e-e7fe-4308-9ba1-7515247f33a9",
   "metadata": {},
   "outputs": [
    {
     "data": {
      "text/plain": [
       "Experience_level\n",
       "Entry           148\n",
       "Expert          379\n",
       "Intermediate    450\n",
       "Name: Experience_level, dtype: int64"
      ]
     },
     "execution_count": 251,
     "metadata": {},
     "output_type": "execute_result"
    }
   ],
   "source": [
    "# job posts per experience level\n",
    "\n",
    "df.groupby(['Experience_level'])['Experience_level'].count()"
   ]
  },
  {
   "cell_type": "code",
   "execution_count": 252,
   "id": "f9462c4f-7102-46a4-ab69-4af38ce8de16",
   "metadata": {},
   "outputs": [
    {
     "data": {
      "image/png": "[encoded data removed]",
      "text/plain": [
       "<Figure size 640x480 with 1 Axes>"
      ]
     },
     "metadata": {},
     "output_type": "display_data"
    }
   ],
   "source": [
    "# visualize job posts per ecperience level\n",
    "\n",
    "df.groupby(['Experience_level'])['Experience_level'].count().plot(kind = 'bar', color = 'skyblue')\n",
    "\n",
    "plt.title(\"Job Posts per Experience Level\")\n",
    "plt.xlabel(\"Experience Level\")\n",
    "plt.ylabel(\"Number of Job Posts\")\n",
    "plt.xticks(rotation=45)\n",
    "plt.show()"
   ]
  },
  {
   "cell_type": "code",
   "execution_count": 253,
   "id": "114908a6-ce99-4f5a-8ecb-d339402026f7",
   "metadata": {},
   "outputs": [
    {
     "name": "stdout",
     "output_type": "stream",
     "text": [
      "Average client spend is 35399.29\n"
     ]
    }
   ],
   "source": [
    "# What's the average Client spend\n",
    "\n",
    "totalspend = df['Client_Spend_Numeric'].sum()\n",
    "totalcount = df['Client_Spend_Numeric'].count()\n",
    "\n",
    "average_client_spend = round(totalspend/totalcount,2)\n",
    "print(f\"Average client spend is {average_client_spend}\")"
   ]
  },
  {
   "cell_type": "code",
   "execution_count": 257,
   "id": "757dd5c8-d2f5-4fe0-8699-7380c6ada02f",
   "metadata": {
    "collapsed": true,
    "jupyter": {
     "outputs_hidden": true
    },
    "scrolled": true
   },
   "outputs": [
    {
     "data": {
      "text/plain": [
       "['',\n",
       " 'AGO',\n",
       " 'ARE',\n",
       " 'ARG',\n",
       " 'AUS',\n",
       " 'AZE',\n",
       " 'Australia',\n",
       " 'Austria',\n",
       " 'BEL',\n",
       " 'BGR',\n",
       " 'Bahamas',\n",
       " 'Bahrain',\n",
       " 'Belgium',\n",
       " 'Brazil',\n",
       " 'Bulgaria',\n",
       " 'CAN',\n",
       " 'CHE',\n",
       " 'Cameroon',\n",
       " 'Canada',\n",
       " 'China',\n",
       " 'Colombia',\n",
       " 'Cyprus',\n",
       " 'DEU',\n",
       " 'DNK',\n",
       " 'Denmark',\n",
       " 'ESP',\n",
       " 'Egypt',\n",
       " 'Estonia',\n",
       " 'Ethiopia',\n",
       " 'FRA',\n",
       " 'Finland',\n",
       " 'France',\n",
       " 'GBR',\n",
       " 'GRC',\n",
       " 'Georgia',\n",
       " 'Germany',\n",
       " 'Ghana',\n",
       " 'Greece',\n",
       " 'HKG',\n",
       " 'Hong Kong',\n",
       " 'IND',\n",
       " 'IRL',\n",
       " 'ISR',\n",
       " 'ITA',\n",
       " 'India',\n",
       " 'Indonesia',\n",
       " 'Ireland',\n",
       " 'Israel',\n",
       " 'Italy',\n",
       " 'Jamaica',\n",
       " 'Japan',\n",
       " 'Jordan',\n",
       " 'Kazakhstan',\n",
       " 'Kenya',\n",
       " 'Kuwait',\n",
       " 'LBN',\n",
       " 'Malawi',\n",
       " 'Malaysia',\n",
       " 'Mexico',\n",
       " 'Morocco',\n",
       " 'NLD',\n",
       " 'NOR',\n",
       " 'NZL',\n",
       " 'Netherlands',\n",
       " 'New Zealand',\n",
       " 'Nigeria',\n",
       " 'Norway',\n",
       " 'PAK',\n",
       " 'PRI',\n",
       " 'Pakistan',\n",
       " 'Philippines',\n",
       " 'Poland',\n",
       " 'Portugal',\n",
       " 'Puerto Rico',\n",
       " 'QAT',\n",
       " 'ROU',\n",
       " 'SAU',\n",
       " 'SGP',\n",
       " 'SOM',\n",
       " 'Saudi Arabia',\n",
       " 'Singapore',\n",
       " 'South Africa',\n",
       " 'Spain',\n",
       " 'Sweden',\n",
       " 'Switzerland',\n",
       " 'TUR',\n",
       " 'Thailand',\n",
       " 'Turkey',\n",
       " 'UKR',\n",
       " 'USA',\n",
       " 'United Arab Emirates',\n",
       " 'United Kingdom',\n",
       " 'VNM',\n",
       " 'Venezuela',\n",
       " 'ZAF']"
      ]
     },
     "execution_count": 257,
     "metadata": {},
     "output_type": "execute_result"
    }
   ],
   "source": [
    "# unique client countries\n",
    "sorted(df['Client_Country'].fillna('').unique())"
   ]
  },
  {
   "cell_type": "code",
   "execution_count": 258,
   "id": "d1cdc073-4157-4dc0-a1b4-52527c940757",
   "metadata": {},
   "outputs": [
    {
     "name": "stdout",
     "output_type": "stream",
     "text": [
      "The job posts were from clients from 94 different countries\n"
     ]
    }
   ],
   "source": [
    "# client country\n",
    "uniquecountrycount = df['Client_Country'].nunique()\n",
    "print(f\"The job posts were from clients from {uniquecountrycount} different countries\")"
   ]
  },
  {
   "cell_type": "code",
   "execution_count": 259,
   "id": "cd37160a-e2ef-42f7-9644-b761d12e0a94",
   "metadata": {},
   "outputs": [
    {
     "data": {
      "text/plain": [
       "Client_Country\n",
       "USA               486\n",
       "Australia          81\n",
       "United Kingdom     56\n",
       "Canada             53\n",
       "AUS                18\n",
       "India              17\n",
       "Saudi Arabia       17\n",
       "Netherlands        15\n",
       "Germany            14\n",
       "GBR                13\n",
       "Name: Client_Country, dtype: int64"
      ]
     },
     "execution_count": 259,
     "metadata": {},
     "output_type": "execute_result"
    }
   ],
   "source": [
    "# Top 10 Countries. job posts per client country\n",
    "\n",
    "df.groupby(['Client_Country'])['Client_Country'].count().nlargest(10)"
   ]
  },
  {
   "cell_type": "code",
   "execution_count": 260,
   "id": "38162c24-1ea1-4668-bd25-fc49379c7775",
   "metadata": {},
   "outputs": [
    {
     "data": {
      "image/png": "[encoded data removed]",
      "text/plain": [
       "<Figure size 640x480 with 1 Axes>"
      ]
     },
     "metadata": {},
     "output_type": "display_data"
    }
   ],
   "source": [
    "# Visualize top 10 Countries. job posts per client country\n",
    "\n",
    "df.groupby(['Client_Country'])['Client_Country'].count().nlargest(10).sort_values(ascending=True).plot(kind = 'barh', color = 'skyblue')\n",
    "\n",
    "plt.title(\"Top 10 Client Countries\")\n",
    "plt.xlabel(\"Client Country\")\n",
    "plt.ylabel(\"Number of Job Posts\")\n",
    "plt.show()"
   ]
  }
 ],
 "metadata": {
  "kernelspec": {
   "display_name": "Python 3 (ipykernel)",
   "language": "python",
   "name": "python3"
  },
  "language_info": {
   "codemirror_mode": {
    "name": "ipython",
    "version": 3
   },
   "file_extension": ".py",
   "mimetype": "text/x-python",
   "name": "python",
   "nbconvert_exporter": "python",
   "pygments_lexer": "ipython3",
   "version": "3.12.7"
  }
 },
 "nbformat": 4,
 "nbformat_minor": 5
}
